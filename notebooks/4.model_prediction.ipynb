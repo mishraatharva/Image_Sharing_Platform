{
 "cells": [
  {
   "cell_type": "code",
   "execution_count": 1,
   "metadata": {},
   "outputs": [],
   "source": [
    "import os\n",
    "import sys\n",
    "os.chdir(\"../\")"
   ]
  },
  {
   "cell_type": "code",
   "execution_count": 2,
   "metadata": {},
   "outputs": [],
   "source": [
    "from src.image_sharing_plateform.pipeline.stage_05_model_prediction_pipeline import PredictionPipeline\n",
    "from src.image_sharing_plateform.constants import *\n",
    "from tensorflow.keras.preprocessing.sequence import pad_sequences\n",
    "import numpy as np\n",
    "\n",
    "from tensorflow.keras.applications import VGG16\n",
    "from tensorflow.keras.layers import GlobalAveragePooling2D\n",
    "import numpy as np\n",
    "import os\n",
    "from tqdm import tqdm\n",
    "from PIL import Image\n",
    "import tensorflow as tf\n",
    "from src.image_sharing_plateform.model.cnn_lstm_model.model import CreateSqueezeModel, CreateLSTMSequence\n",
    "from tensorflow.keras.models import load_model"
   ]
  },
  {
   "cell_type": "code",
   "execution_count": 3,
   "metadata": {},
   "outputs": [],
   "source": [
    "prediction_pipeline = PredictionPipeline(PARAMS_FILE_PATH)\n",
    "\n",
    "custom_objects = {\n",
    "            \"CreateSqueezeModel\":CreateSqueezeModel,\n",
    "            \"CreateLSTMSequence\": CreateLSTMSequence,\n",
    "        }"
   ]
  },
  {
   "cell_type": "code",
   "execution_count": 4,
   "metadata": {},
   "outputs": [
    {
     "name": "stdout",
     "output_type": "stream",
     "text": [
      "data/trained_model/cnn_lstm_model/trained_model.h5\n"
     ]
    }
   ],
   "source": [
    "model = prediction_pipeline.return_trained_model()"
   ]
  },
  {
   "cell_type": "code",
   "execution_count": 5,
   "metadata": {},
   "outputs": [],
   "source": [
    "from keras.utils import plot_model"
   ]
  },
  {
   "cell_type": "code",
   "execution_count": 6,
   "metadata": {},
   "outputs": [
    {
     "data": {
      "image/png": "[encoded data removed]",
      "text/plain": [
       "<IPython.core.display.Image object>"
      ]
     },
     "execution_count": 6,
     "metadata": {},
     "output_type": "execute_result"
    }
   ],
   "source": [
    "plot_model(model)"
   ]
  },
  {
   "cell_type": "code",
   "execution_count": 7,
   "metadata": {},
   "outputs": [],
   "source": [
    "def extract_features(filename):\n",
    "       \n",
    "        # Load VGG16 model without top layers\n",
    "        base_model = VGG16(input_shape=(500, 500, 3), \n",
    "                           include_top=False, weights='imagenet')\n",
    "\n",
    "        model = tf.keras.Sequential([\n",
    "            base_model,\n",
    "            GlobalAveragePooling2D()  # Converts spatial dimensions to (batch_size, 512)\n",
    "        ])\n",
    "\n",
    "        features = {}\n",
    "        \n",
    "        image = Image.open(filename)\n",
    "        image = image.resize((500,500))\n",
    "        image = np.array(image) / 255.0  # Normalize correctly\n",
    "        image = np.expand_dims(image, axis=0)  # Add batch dimension\n",
    "            \n",
    "        # Extract feature and flatten it\n",
    "        feature = model.predict(image)  # Shape: (1, 512)\n",
    "        \n",
    "        return feature"
   ]
  },
  {
   "cell_type": "code",
   "execution_count": 8,
   "metadata": {},
   "outputs": [
    {
     "name": "stdout",
     "output_type": "stream",
     "text": [
      "1/1 [==============================] - 5s 5s/step\n"
     ]
    }
   ],
   "source": [
    "extracted_feature = extract_features(r\"U:\\nlp_project\\Image_Sharing_Plateform\\data\\row\\Flickr8k_Dataset\\Flicker8k_Dataset\\3672940355_47f30e2b28.jpg\")"
   ]
  },
  {
   "cell_type": "code",
   "execution_count": 9,
   "metadata": {},
   "outputs": [
    {
     "data": {
      "text/plain": [
       "array([[1.64685607e-01, 0.00000000e+00, 1.61697805e-01, 1.41706225e-02,\n",
       "        8.80305916e-02, 0.00000000e+00, 6.46095769e-03, 2.93563157e-02,\n",
       "        2.64002588e-02, 5.14066555e-02, 1.60867453e-03, 8.80766846e-03,\n",
       "        9.24652666e-02, 0.00000000e+00, 2.59486437e-02, 3.11700195e-01,\n",
       "        1.06079374e-02, 1.46009371e-01, 5.92744630e-03, 8.27578232e-02,\n",
       "        0.00000000e+00, 0.00000000e+00, 3.25557077e-03, 2.33688608e-01,\n",
       "        5.11255860e-02, 2.69934582e-03, 2.08756447e-01, 1.37584731e-01,\n",
       "        1.26373649e-01, 5.34814643e-03, 5.17362356e-02, 2.61354983e-01,\n",
       "        1.66324139e-01, 1.25673860e-01, 2.09829196e-01, 5.31975133e-03,\n",
       "        1.60919651e-01, 3.05493991e-03, 0.00000000e+00, 1.00322696e-03,\n",
       "        2.72303764e-02, 8.13035481e-03, 1.70541242e-01, 3.96267697e-02,\n",
       "        1.69844568e-01, 1.16709396e-01, 2.06408918e-01, 6.08945079e-02,\n",
       "        1.30914878e-02, 2.16104791e-01, 8.40560421e-02, 0.00000000e+00,\n",
       "        1.78438500e-01, 9.23440035e-04, 3.02615063e-03, 6.36076808e-01,\n",
       "        7.81526566e-01, 5.05673923e-02, 7.41002932e-02, 2.60607809e-01,\n",
       "        3.62843014e-02, 0.00000000e+00, 4.64214459e-02, 1.95095062e-01,\n",
       "        0.00000000e+00, 6.62329122e-02, 2.50209365e-02, 5.45996204e-02,\n",
       "        0.00000000e+00, 1.16105629e-02, 1.20064812e-02, 1.71479404e-01,\n",
       "        1.23533860e-01, 1.95179451e-02, 3.72545980e-03, 1.32569261e-02,\n",
       "        6.92478597e-01, 3.58791016e-02, 7.91209284e-04, 0.00000000e+00,\n",
       "        3.04084993e-03, 1.69368133e-01, 1.42930672e-01, 1.26470089e-01,\n",
       "        4.13401425e-02, 1.29765561e-02, 3.00478429e-01, 7.45062390e-03,\n",
       "        2.68284798e-01, 5.35571098e-01, 0.00000000e+00, 3.90998274e-02,\n",
       "        1.79417692e-02, 2.86956932e-02, 2.69438662e-02, 1.55803204e-01,\n",
       "        1.34090306e-02, 1.71318680e-01, 2.10285969e-02, 2.53950298e-01,\n",
       "        1.43713623e-01, 2.10828245e-01, 7.03139380e-02, 2.11600661e-02,\n",
       "        2.41545886e-01, 3.43927852e-04, 7.55547434e-02, 0.00000000e+00,\n",
       "        4.28033948e-01, 7.84298122e-01, 1.93054110e-01, 1.43481744e-02,\n",
       "        2.76808366e-02, 1.83424461e+00, 0.00000000e+00, 2.26772716e-03,\n",
       "        1.28386497e-01, 8.10578287e-01, 2.09579065e-01, 6.21475220e-01,\n",
       "        2.55033448e-02, 1.43715516e-02, 2.08354406e-02, 5.34918964e-01,\n",
       "        5.76093085e-02, 7.09201619e-02, 5.26700495e-03, 3.31810908e-03,\n",
       "        7.23989261e-03, 4.60750833e-02, 0.00000000e+00, 1.52006070e-03,\n",
       "        0.00000000e+00, 2.82653838e-01, 1.10178972e-02, 1.85723864e-02,\n",
       "        2.37451345e-01, 1.72853116e-02, 1.34411350e-01, 3.51513386e-01,\n",
       "        3.27030709e-03, 2.18031593e-02, 1.50008677e-02, 3.72470945e-01,\n",
       "        7.23689678e-04, 0.00000000e+00, 3.58560234e-02, 2.25575138e-02,\n",
       "        2.50139475e-01, 2.50111580e-01, 2.48436809e-01, 7.32326123e-04,\n",
       "        9.77917984e-02, 1.57218218e-01, 9.08183008e-02, 9.56964779e+00,\n",
       "        6.33418513e-03, 1.04622304e-01, 2.51341239e-02, 2.62180358e-01,\n",
       "        2.50729531e-01, 1.80071816e-02, 0.00000000e+00, 1.98753059e-01,\n",
       "        1.43525600e-01, 3.31464484e-02, 7.42610276e-01, 0.00000000e+00,\n",
       "        1.11099914e-01, 1.07810728e-03, 1.41194880e-01, 1.06372945e-01,\n",
       "        4.55745548e-01, 6.30902499e-02, 9.04311016e-02, 3.82832885e-01,\n",
       "        3.60357240e-02, 1.52206287e-01, 1.74652189e-02, 1.15961879e-01,\n",
       "        4.92611788e-02, 1.58787388e-02, 9.58079472e-03, 1.96228996e-02,\n",
       "        1.35670723e-02, 7.58512318e-01, 1.84268430e-01, 2.99319793e-02,\n",
       "        8.06392264e-03, 1.73113978e-04, 7.07310464e-05, 2.37745829e-02,\n",
       "        3.78195681e-02, 1.57187939e-01, 3.31389084e-02, 0.00000000e+00,\n",
       "        1.88384265e-01, 6.80427300e-04, 1.69111677e-02, 2.15596199e-01,\n",
       "        6.39799461e-02, 2.75642873e-04, 9.12841037e-02, 8.75029538e-04,\n",
       "        0.00000000e+00, 0.00000000e+00, 5.69773652e-02, 4.27795909e-02,\n",
       "        1.02764818e-04, 6.35402452e-04, 3.22166122e-02, 0.00000000e+00,\n",
       "        2.57098153e-02, 1.22198470e-01, 9.30157900e-02, 2.48921007e-01,\n",
       "        4.29190695e-03, 0.00000000e+00, 3.81971709e-02, 1.01311400e-03,\n",
       "        2.88100273e-04, 0.00000000e+00, 2.35159919e-01, 9.87944826e-02,\n",
       "        9.13013071e-02, 7.15478584e-02, 2.16777518e-01, 1.05886824e-01,\n",
       "        3.96906696e-02, 6.43145621e-01, 1.87956300e-02, 6.16191812e-02,\n",
       "        9.14735422e-02, 3.92863899e-03, 0.00000000e+00, 6.10451493e-03,\n",
       "        1.10461093e-01, 2.53325462e-01, 1.60866037e-01, 2.87693106e-02,\n",
       "        4.41177674e-02, 8.27407390e-02, 5.65187819e-02, 1.09392591e-01,\n",
       "        8.02888647e-02, 2.53195137e-01, 9.48266033e-03, 1.84155762e-01,\n",
       "        5.80956757e-01, 2.85689812e-02, 2.88299192e-02, 0.00000000e+00,\n",
       "        0.00000000e+00, 0.00000000e+00, 8.92275691e-01, 3.51468958e-02,\n",
       "        9.54055339e-02, 1.71423107e-01, 3.07524681e-01, 1.38938367e-01,\n",
       "        1.48267085e-02, 6.79649860e-02, 1.59045488e-01, 4.52449592e-03,\n",
       "        1.14697233e-01, 6.22205362e-02, 2.76471674e-03, 1.91015410e-04,\n",
       "        0.00000000e+00, 1.30939886e-01, 2.59506586e-03, 1.01046465e-01,\n",
       "        9.02681202e-02, 0.00000000e+00, 8.94799754e-02, 4.62142915e-01,\n",
       "        3.59737724e-01, 5.03294654e-02, 0.00000000e+00, 2.57400703e-02,\n",
       "        3.17605361e-02, 3.59917613e-04, 4.44714762e-02, 1.45952016e-01,\n",
       "        3.38087901e-02, 1.16800301e-01, 1.22189010e-03, 4.15512137e-02,\n",
       "        7.52795022e-04, 1.38310492e-01, 1.24315493e-01, 2.55789459e-01,\n",
       "        1.12778634e-01, 2.92109642e-02, 1.53345456e-02, 0.00000000e+00,\n",
       "        2.13380039e-01, 2.91433651e-04, 7.63446391e-01, 2.68690567e-03,\n",
       "        3.50803919e-02, 6.40565762e-04, 3.16355290e-04, 7.67586799e-03,\n",
       "        9.70660709e-04, 9.66959447e-02, 9.86987725e-03, 4.02774543e-01,\n",
       "        3.08220796e-02, 4.08624634e-02, 0.00000000e+00, 2.61875801e-02,\n",
       "        2.16610227e-02, 5.16236387e-02, 3.44970566e-03, 1.86945581e+00,\n",
       "        1.68507308e-01, 6.53568804e-01, 1.90883856e-02, 3.30669075e-01,\n",
       "        3.48410338e-01, 1.06636956e-02, 6.48269281e-02, 2.32838583e-03,\n",
       "        3.60504346e-04, 3.55432242e-01, 3.76443356e-01, 7.06811575e-03,\n",
       "        7.99338698e-01, 9.76393893e-02, 0.00000000e+00, 2.15646718e-02,\n",
       "        1.18036626e-03, 1.97426882e-04, 1.56386361e-01, 2.45753840e-01,\n",
       "        1.32338714e-03, 0.00000000e+00, 3.01833659e-01, 2.30044611e-02,\n",
       "        1.13424554e-01, 1.31699117e-02, 2.96670943e-02, 1.77937195e-01,\n",
       "        5.18396264e-03, 4.83150855e-02, 3.28426182e-01, 9.51573998e-02,\n",
       "        0.00000000e+00, 9.93941128e-02, 8.52635503e-02, 3.02173453e-03,\n",
       "        1.14003646e+00, 9.38785896e-02, 3.10244448e-02, 2.39296332e-02,\n",
       "        4.52334732e-02, 2.76272055e-02, 4.23867395e-03, 7.13643879e-02,\n",
       "        0.00000000e+00, 1.48514390e-01, 6.17602188e-03, 1.77993894e-01,\n",
       "        0.00000000e+00, 3.06659430e-01, 1.05236424e-03, 4.26233076e-02,\n",
       "        2.71534286e-02, 5.45301855e-01, 2.35472657e-02, 3.37102935e-02,\n",
       "        4.98388678e-01, 5.37573639e-03, 0.00000000e+00, 5.49167916e-02,\n",
       "        0.00000000e+00, 1.31695002e-01, 1.15144544e-03, 0.00000000e+00,\n",
       "        6.46412969e-02, 2.48505786e-01, 2.84529895e-01, 6.70200819e-03,\n",
       "        1.62404461e-03, 2.23091766e-01, 5.39397262e-03, 7.20714927e-02,\n",
       "        2.95751225e-02, 6.70420891e-03, 3.68565738e-01, 1.83068507e-04,\n",
       "        9.46571156e-02, 8.51742923e-03, 4.75916639e-02, 4.42061871e-02,\n",
       "        4.50426489e-02, 7.12700337e-02, 1.24259308e-01, 2.27916244e-05,\n",
       "        3.01677361e-02, 2.81543173e-02, 1.13571554e-01, 8.56108740e-02,\n",
       "        2.39201589e-03, 3.44385743e-01, 1.39450254e-02, 9.23158079e-02,\n",
       "        2.83436894e-01, 4.87302989e-02, 2.39380151e-02, 5.52536808e-02,\n",
       "        1.05311507e-02, 2.78427694e-02, 3.11963499e-01, 3.86287495e-02,\n",
       "        1.16545066e-01, 5.44177473e-01, 1.60156353e-03, 1.92225538e-02,\n",
       "        0.00000000e+00, 0.00000000e+00, 7.31247070e-04, 3.58165875e-02,\n",
       "        5.50681772e-03, 1.58572659e-01, 2.69075241e-02, 8.49681324e-04,\n",
       "        1.11256482e-03, 5.17726759e-04, 7.28862965e-03, 1.40945442e-04,\n",
       "        1.83099788e-02, 1.05944768e-01, 4.46184017e-02, 5.72456326e-03,\n",
       "        9.89532620e-02, 2.84448895e-03, 7.47037902e-02, 1.25195041e-01,\n",
       "        4.39902425e-01, 2.91471410e+00, 6.83690305e-04, 7.26519618e-03,\n",
       "        4.51355964e-01, 2.74916589e-02, 3.37290391e-02, 1.12673000e-01,\n",
       "        3.89458425e-02, 2.10808124e-02, 2.61793546e-02, 1.53580448e-02,\n",
       "        5.71239106e-02, 3.15987468e-02, 4.32974584e-02, 1.40223950e-02,\n",
       "        1.08853485e-02, 7.22004659e-03, 6.46522408e-03, 2.21844576e-02,\n",
       "        3.63931106e-03, 3.55290361e-02, 2.57668644e-02, 1.27781900e-02,\n",
       "        4.42254126e-01, 9.56649147e-03, 2.59096213e-02, 4.25292961e-02,\n",
       "        3.75180617e-02, 1.82694331e-01, 4.86099068e-03, 9.41189844e-03,\n",
       "        2.20693514e-01, 2.97228713e-02, 6.14579201e-01, 2.83696167e-02,\n",
       "        2.77102663e-04, 2.69701760e-02, 4.55994047e-02, 0.00000000e+00,\n",
       "        1.17983341e-01, 2.12990437e-02, 1.22247368e-01, 2.54685078e-02,\n",
       "        8.31974903e-05, 2.38728877e-02, 1.73700616e-01, 3.82720726e-03,\n",
       "        5.50663508e-02, 8.96506070e-04, 5.96897490e-02, 2.53732860e-01,\n",
       "        1.98221244e-02, 1.30259874e-03, 1.38955608e-01, 1.68769568e-01,\n",
       "        9.60078463e-02, 4.01181318e-02, 6.11443333e-02, 1.78419933e-01,\n",
       "        7.83194244e-01, 1.14650670e-02, 1.02942514e+00, 1.61379158e-01,\n",
       "        3.72199506e-01, 2.40062252e-02, 1.43185973e-01, 1.23584621e-01,\n",
       "        1.03730336e-02, 7.19509274e-02, 6.51603639e-01, 1.06400740e-03]],\n",
       "      dtype=float32)"
      ]
     },
     "execution_count": 9,
     "metadata": {},
     "output_type": "execute_result"
    }
   ],
   "source": [
    "extracted_feature"
   ]
  },
  {
   "cell_type": "code",
   "execution_count": 10,
   "metadata": {},
   "outputs": [
    {
     "data": {
      "text/plain": [
       "(1, 512)"
      ]
     },
     "execution_count": 10,
     "metadata": {},
     "output_type": "execute_result"
    }
   ],
   "source": [
    "extracted_feature.shape"
   ]
  },
  {
   "cell_type": "code",
   "execution_count": 11,
   "metadata": {},
   "outputs": [
    {
     "name": "stdout",
     "output_type": "stream",
     "text": [
      "WARNING:tensorflow:No training configuration found in save file, so the model was *not* compiled. Compile it manually.\n"
     ]
    }
   ],
   "source": [
    "from tensorflow.keras.models import load_model\n",
    "\n",
    "# Load the model containing the TextVectorization layer\n",
    "loaded_model = load_model(r\"U:\\nlp_project\\Image_Sharing_Plateform\\data\\processed\\vectorizer\")\n",
    "\n",
    "# Extract the TextVectorization layer\n",
    "vectorizer = loaded_model.layers[0]"
   ]
  },
  {
   "cell_type": "code",
   "execution_count": 12,
   "metadata": {},
   "outputs": [
    {
     "data": {
      "text/plain": [
       "<keras.layers.preprocessing.text_vectorization.TextVectorization at 0x17e950f4a90>"
      ]
     },
     "execution_count": 12,
     "metadata": {},
     "output_type": "execute_result"
    }
   ],
   "source": [
    "vectorizer"
   ]
  },
  {
   "cell_type": "code",
   "execution_count": 13,
   "metadata": {},
   "outputs": [],
   "source": [
    "vocab = vectorizer.get_vocabulary()"
   ]
  },
  {
   "cell_type": "code",
   "execution_count": 14,
   "metadata": {},
   "outputs": [],
   "source": [
    "def generate_caption(model, image_feature, vocab):\n",
    "    \"\"\"Generate a caption for the given image feature vector.\"\"\"\n",
    "    # sequence = vectorizer('<start>')  # Start with \"<start>\" token\n",
    "    # sequence = vectorizer(tf.convert_to_tensor([\"<start>\"]))\n",
    "\n",
    "    sequence = vectorizer(tf.convert_to_tensor([\"<start>\"]))  # Convert \"<start>\" to tensor\n",
    "    sequence = sequence.numpy()[0]\n",
    "\n",
    "    print(sequence.shape)\n",
    "    print(type(sequence))\n",
    "\n",
    "    caption = []\n",
    "\n",
    "    for _ in range(15):\n",
    "        sequence_padded = pad_sequences([sequence], maxlen=32, padding='post')\n",
    "        print(\"Sequence Padded Shape1:\", sequence_padded.shape)\n",
    "    \n",
    "        y_pred = model.predict([image_feature, sequence_padded], verbose=1)\n",
    "        predicted_index = np.argmax(y_pred)\n",
    "\n",
    "        if predicted_index == vectorizer('<end>').numpy()[0]:  # Stop if \"<end>\" token is generated\n",
    "            break\n",
    "\n",
    "        caption.append(predicted_index)\n",
    "        sequence = np.append(sequence, predicted_index)[-15:]  # Update sequence\n",
    "    \n",
    "    final_caption = \" \".join(vocab[idx] for idx in caption)\n",
    "\n",
    "\n",
    "    return final_caption"
   ]
  },
  {
   "cell_type": "code",
   "execution_count": 15,
   "metadata": {},
   "outputs": [
    {
     "name": "stdout",
     "output_type": "stream",
     "text": [
      "(15,)\n",
      "<class 'numpy.ndarray'>\n",
      "Sequence Padded Shape1: (1, 32)\n",
      "1/1 [==============================] - 1s 1s/step\n",
      "Sequence Padded Shape1: (1, 32)\n",
      "1/1 [==============================] - 0s 41ms/step\n",
      "Sequence Padded Shape1: (1, 32)\n",
      "1/1 [==============================] - 0s 52ms/step\n",
      "Sequence Padded Shape1: (1, 32)\n",
      "1/1 [==============================] - 0s 23ms/step\n",
      "Sequence Padded Shape1: (1, 32)\n",
      "1/1 [==============================] - 0s 27ms/step\n",
      "Sequence Padded Shape1: (1, 32)\n",
      "1/1 [==============================] - 0s 21ms/step\n",
      "Sequence Padded Shape1: (1, 32)\n",
      "1/1 [==============================] - 0s 24ms/step\n",
      "Sequence Padded Shape1: (1, 32)\n",
      "1/1 [==============================] - 0s 27ms/step\n"
     ]
    }
   ],
   "source": [
    "generate_caption = generate_caption(model, extracted_feature,vocab)"
   ]
  },
  {
   "cell_type": "code",
   "execution_count": 16,
   "metadata": {},
   "outputs": [
    {
     "data": {
      "text/plain": [
       "'start start two dogs in the snow'"
      ]
     },
     "execution_count": 16,
     "metadata": {},
     "output_type": "execute_result"
    }
   ],
   "source": [
    "generate_caption"
   ]
  },
  {
   "cell_type": "code",
   "execution_count": 17,
   "metadata": {},
   "outputs": [
    {
     "data": {
      "text/plain": [
       "True"
      ]
     },
     "execution_count": 17,
     "metadata": {},
     "output_type": "execute_result"
    }
   ],
   "source": [
    "tf.executing_eagerly()"
   ]
  },
  {
   "cell_type": "code",
   "execution_count": null,
   "metadata": {},
   "outputs": [],
   "source": []
  }
 ],
 "metadata": {
  "kernelspec": {
   "display_name": "Python 3",
   "language": "python",
   "name": "python3"
  },
  "language_info": {
   "codemirror_mode": {
    "name": "ipython",
    "version": 3
   },
   "file_extension": ".py",
   "mimetype": "text/x-python",
   "name": "python",
   "nbconvert_exporter": "python",
   "pygments_lexer": "ipython3",
   "version": "3.8.0"
  }
 },
 "nbformat": 4,
 "nbformat_minor": 2
}
