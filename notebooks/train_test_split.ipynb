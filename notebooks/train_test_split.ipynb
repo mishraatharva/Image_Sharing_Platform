{
 "cells": [
  {
   "cell_type": "code",
   "execution_count": 1,
   "metadata": {},
   "outputs": [],
   "source": [
    "import numpy as np\n",
    "\n",
    "class TrainTestSplit():\n",
    "    def __init__(self):\n",
    "        pass\n",
    "\n",
    "    def train_val_split(caption_data, train_size=0.8, shuffle=True):\n",
    "        \"\"\"Split the captioning dataset into train and validation sets.\n",
    "\n",
    "        Args:\n",
    "            caption_data (dict): Dictionary containing the mapped caption data\n",
    "            train_size (float): Fraction of all the full dataset to use as training data\n",
    "            shuffle (bool): Whether to shuffle the dataset before splitting\n",
    "\n",
    "        Returns:\n",
    "            Traning and validation datasets as two separated dicts\n",
    "        \"\"\"\n",
    "\n",
    "       # 1. Get the list of all image names\n",
    "        all_images = list(caption_data.keys())\n",
    "\n",
    "        # 2. Shuffle if necessary\n",
    "        if shuffle:\n",
    "            np.random.shuffle(all_images)\n",
    "\n",
    "        # 3. Split into training and validation sets\n",
    "        train_size = int(len(caption_data) * train_size)\n",
    "\n",
    "        training_data = {\n",
    "            img_name: caption_data[img_name] for img_name in all_images[:train_size]\n",
    "        }\n",
    "        validation_data = {\n",
    "            img_name: caption_data[img_name] for img_name in all_images[train_size:]\n",
    "        }\n",
    "\n",
    "        # 4. Return the splits\n",
    "        return training_data, validation_data"
   ]
  },
  {
   "cell_type": "code",
   "execution_count": 2,
   "metadata": {},
   "outputs": [],
   "source": [
    "tvs = TrainTestSplit()"
   ]
  },
  {
   "cell_type": "code",
   "execution_count": null,
   "metadata": {},
   "outputs": [],
   "source": []
  }
 ],
 "metadata": {
  "kernelspec": {
   "display_name": "Python 3",
   "language": "python",
   "name": "python3"
  },
  "language_info": {
   "codemirror_mode": {
    "name": "ipython",
    "version": 3
   },
   "file_extension": ".py",
   "mimetype": "text/x-python",
   "name": "python",
   "nbconvert_exporter": "python",
   "pygments_lexer": "ipython3",
   "version": "3.8.0"
  }
 },
 "nbformat": 4,
 "nbformat_minor": 2
}
