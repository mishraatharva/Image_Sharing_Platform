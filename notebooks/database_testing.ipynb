{
 "cells": [
  {
   "cell_type": "code",
   "execution_count": 1,
   "metadata": {},
   "outputs": [],
   "source": [
    "from pymongo.mongo_client import MongoClient"
   ]
  },
  {
   "cell_type": "code",
   "execution_count": null,
   "metadata": {},
   "outputs": [
    {
     "name": "stdout",
     "output_type": "stream",
     "text": [
      "Pinged your deployment. You successfully connected to MongoDB!\n"
     ]
    }
   ],
   "source": [
    "uri = \"change with you mongodb uri\"\n",
    "\n",
    "# Create a new client and connect to the server\n",
    "client = MongoClient(uri)\n",
    "\n",
    "# Send a ping to confirm a successful connection\n",
    "try:\n",
    "    client.admin.command('ping')\n",
    "    print(\"Pinged your deployment. You successfully connected to MongoDB!\")\n",
    "except Exception as e:\n",
    "    print(e)"
   ]
  },
  {
   "cell_type": "code",
   "execution_count": 3,
   "metadata": {},
   "outputs": [
    {
     "data": {
      "text/plain": [
       "['image-sharing-platform-database', 'admin', 'local']"
      ]
     },
     "execution_count": 3,
     "metadata": {},
     "output_type": "execute_result"
    }
   ],
   "source": [
    "client.list_database_names()"
   ]
  },
  {
   "cell_type": "code",
   "execution_count": 4,
   "metadata": {},
   "outputs": [],
   "source": [
    "mydb=client['image-sharing-platform-database']"
   ]
  },
  {
   "cell_type": "code",
   "execution_count": 12,
   "metadata": {},
   "outputs": [
    {
     "name": "stdout",
     "output_type": "stream",
     "text": [
      "Collections: ['user_credentials', 'fs.files', 'user_uploaded_images', 'fs.chunks']\n"
     ]
    }
   ],
   "source": [
    "# Get all collections in the database\n",
    "collection_names = mydb.list_collection_names()\n",
    "\n",
    "print(\"Collections:\", collection_names)"
   ]
  },
  {
   "cell_type": "markdown",
   "metadata": {},
   "source": [
    "#### 1. insert user record:"
   ]
  },
  {
   "cell_type": "code",
   "execution_count": 6,
   "metadata": {},
   "outputs": [],
   "source": [
    "user_data_collection = mydb[\"user_credentials\"]"
   ]
  },
  {
   "cell_type": "code",
   "execution_count": 7,
   "metadata": {},
   "outputs": [],
   "source": [
    "# myfirstrecord={\"fname\":\"atharva\",\"lname\":\"mishra\",\"email_address\":\"mishraatharva825@gmail.com\", \"password\": \"atharva@123\"}\n",
    "# mysecondrecord={\"fname\":\"deep\",\"lname\":\"mishra\",\"email_address\":\"deepmishra152@gmail.com\", \"password\": \"deepatharva@123\"}"
   ]
  },
  {
   "cell_type": "code",
   "execution_count": 8,
   "metadata": {},
   "outputs": [],
   "source": [
    "# print(myfirstrecord)\n",
    "# print(mysecondrecord)"
   ]
  },
  {
   "cell_type": "code",
   "execution_count": 9,
   "metadata": {},
   "outputs": [],
   "source": [
    "# user_data_collection.insert_one(myfirstrecord)"
   ]
  },
  {
   "cell_type": "code",
   "execution_count": 10,
   "metadata": {},
   "outputs": [],
   "source": [
    "# user_data_collection.insert_one(mysecondrecord)"
   ]
  },
  {
   "cell_type": "markdown",
   "metadata": {},
   "source": [
    "#### 2. Get user data based on id:"
   ]
  },
  {
   "cell_type": "code",
   "execution_count": 15,
   "metadata": {},
   "outputs": [
    {
     "data": {
      "text/plain": [
       "{'_id': ObjectId('67e135e196464006df15e6bf'),\n",
       " 'username': 'atharva007',\n",
       " 'email': 'atharva@gmail.com',\n",
       " 'gender': 'Male',\n",
       " 'password': 'pbkdf2:sha256:600000$WtN3F8Gqm1uLIGhg$9a2045619b0a3999e8a3f44face126d857813603c7998d5cb75dd21f4a6216af',\n",
       " 'dob': datetime.datetime(1998, 1, 15, 0, 0)}"
      ]
     },
     "execution_count": 15,
     "metadata": {},
     "output_type": "execute_result"
    }
   ],
   "source": [
    "user_data_collection.find_one({\"email\":\"atharva@gmail.com\"})"
   ]
  },
  {
   "cell_type": "code",
   "execution_count": 16,
   "metadata": {},
   "outputs": [],
   "source": [
    "# user_data_collection.find_one({\"email_address\":\"deepmishra152@gmail.com\"})"
   ]
  },
  {
   "cell_type": "markdown",
   "metadata": {},
   "source": [
    "#### 1. insert user-image record:"
   ]
  },
  {
   "cell_type": "code",
   "execution_count": 21,
   "metadata": {},
   "outputs": [],
   "source": [
    "import gridfs\n",
    "from pymongo import MongoClient\n",
    "from datetime import datetime\n",
    "\n",
    "import gridfs\n",
    "from pymongo import MongoClient\n",
    "import matplotlib.pyplot as plt\n",
    "import io\n",
    "from PIL import Image\n",
    "import time"
   ]
  },
  {
   "cell_type": "code",
   "execution_count": 22,
   "metadata": {},
   "outputs": [],
   "source": [
    "# user_images_collection = mydb[\"user-images\"]"
   ]
  },
  {
   "cell_type": "code",
   "execution_count": 13,
   "metadata": {},
   "outputs": [
    {
     "name": "stdout",
     "output_type": "stream",
     "text": [
      "Image stored in GridFS with ID: 67d764fa7f75380b42aa233f\n",
      "Image stored in GridFS with ID: 67d765367f75380b42aa2341\n",
      "Images metadata stored successfully!\n"
     ]
    }
   ],
   "source": [
    "# Initialize GridFS\n",
    "fs = gridfs.GridFS(mydb)\n",
    "\n",
    "# Store Image in GridFS\n",
    "with open(r\"U:\\nlp_project\\Image_Sharing_Plateform\\data\\profile_pic.JPG\", \"rb\") as img_file:\n",
    "    file_id_one = fs.put(img_file, filename=f\"profile_pic_{datetime.utcnow().timestamp()}\", metadata={\"email_address\": \"mishraatharva825@gmail.com\"})\n",
    "\n",
    "time.sleep(60)\n",
    "\n",
    "with open(r\"U:\\nlp_project\\Image_Sharing_Plateform\\data\\th.jpg\", \"rb\") as img_file:\n",
    "    file_id_two = fs.put(img_file, filename=f\"profile_pic_{datetime.utcnow().timestamp()}\", metadata={\"email_address\": \"mishraatharva825@gmail.com\"})\n",
    "\n",
    "# Store Image Metadata in user-images Collection (Regular Collection)\n",
    "\n",
    "profile_metadata = {\n",
    "    \"timestamp\": datetime.utcnow(),\n",
    "    \"email_address\": \"mishraatharva825@gmail.com\",\n",
    "    \"image_name\": \"profile_pic.jpg\",\n",
    "    \"gridfs_id\": file_id_one,\n",
    "    \"caption\": \"my profile picture!!\"\n",
    "}\n",
    "\n",
    "th_metadata = {\n",
    "    \"timestamp\": datetime.utcnow(),\n",
    "    \"email_address\": \"mishraatharva825@gmail.com\",\n",
    "    \"image_name\": \"profile_pic.jpg\",\n",
    "    \"gridfs_id\": file_id_two,\n",
    "    \"caption\": \"shiv parivar pic!!\"\n",
    "}\n",
    "\n",
    "user_images_collection.insert_one(profile_metadata)\n",
    "user_images_collection.insert_one(th_metadata)\n",
    "\n",
    "\n",
    "print(\"Image stored in GridFS with ID:\", file_id_one)\n",
    "print(\"Image stored in GridFS with ID:\", file_id_two)\n",
    "\n",
    "print(\"Images metadata stored successfully!\")"
   ]
  },
  {
   "cell_type": "markdown",
   "metadata": {},
   "source": [
    "#### 2. Retrieve images of a user:"
   ]
  },
  {
   "cell_type": "code",
   "execution_count": null,
   "metadata": {},
   "outputs": [],
   "source": []
  },
  {
   "cell_type": "code",
   "execution_count": null,
   "metadata": {},
   "outputs": [],
   "source": []
  },
  {
   "cell_type": "code",
   "execution_count": 33,
   "metadata": {},
   "outputs": [],
   "source": [
    "# metadata_doc = metadata_collection.find({\"email_address\": email_to_find})\n",
    "# for doc in enumerate(metadata_doc):\n",
    "#     if metadata_doc:\n",
    "#         file_id = doc[1][\"gridfs_id\"]\n",
    "#         caption = doc[1][\"caption\"]\n",
    "#         # print(file_id)\n",
    "#         # print(caption)\n",
    "#         image_data = fs.get(file_id).read()\n",
    "\n",
    "#         # Display Image\n",
    "#         image = Image.open(io.BytesIO(image_data))\n",
    "#         plt.imshow(image)\n",
    "#         plt.axis(\"off\")\n",
    "#         plt.show()\n",
    "#         print(caption)\n",
    "#         print(\"---------------------\")"
   ]
  },
  {
   "cell_type": "code",
   "execution_count": 34,
   "metadata": {},
   "outputs": [],
   "source": [
    "# with open(\"test_image.jpg\", \"wb\") as f:\n",
    "#     f.write(image_data)\n",
    "\n",
    "# try:\n",
    "#     image = Image.open(f)\n",
    "#     image.show()  # Opens the image using the default viewer\n",
    "# except Exception as e:\n",
    "#     print(\"PIL Cannot Open Image:\", e)"
   ]
  },
  {
   "cell_type": "code",
   "execution_count": 35,
   "metadata": {},
   "outputs": [],
   "source": [
    "# try:\n",
    "#     image = Image.open(f)\n",
    "#     image.show()  # Opens the image using the default viewer\n",
    "# except Exception as e:\n",
    "#     print(\"PIL Cannot Open Image:\", e)"
   ]
  },
  {
   "cell_type": "code",
   "execution_count": 36,
   "metadata": {},
   "outputs": [],
   "source": [
    "# from imghdr import what\n",
    "\n",
    "# file_type = what(None, image_data)  # Detect image format\n",
    "# print(\"Detected Image Type:\", file_type)\n",
    "\n",
    "# if file_type not in [\"jpeg\", \"png\"]:\n",
    "#     print(\"Error: Invalid image format\")\n",
    "# else:\n",
    "#     image = Image.open(io.BytesIO(image_data))\n",
    "#     plt.imshow(image)\n",
    "#     plt.axis(\"off\")\n",
    "#     plt.show()\n"
   ]
  },
  {
   "cell_type": "code",
   "execution_count": 38,
   "metadata": {},
   "outputs": [],
   "source": [
    "fs = gridfs.GridFS(mydb)"
   ]
  },
  {
   "cell_type": "code",
   "execution_count": 39,
   "metadata": {},
   "outputs": [],
   "source": [
    "# Fetch Image Metadata\n",
    "email_to_find = \"atharva@gmail.com\"\n",
    "metadata_collection = mydb[\"user_uploaded_images\"]"
   ]
  },
  {
   "cell_type": "code",
   "execution_count": 42,
   "metadata": {},
   "outputs": [
    {
     "name": "stdout",
     "output_type": "stream",
     "text": [
      "67e3b7217577d49d150ae5db\n",
      "start start the man is playing in the snow\n",
      "b''\n",
      "No image data found.\n"
     ]
    }
   ],
   "source": [
    "metadata_doc = metadata_collection.find({\"email_address\": email_to_find})\n",
    "for doc in metadata_doc:  # Corrected the loop\n",
    "    if doc:\n",
    "        file_id = doc[\"gridfs_id\"]\n",
    "        print(file_id)\n",
    "        caption = doc[\"caption\"]\n",
    "        print(caption)\n",
    "        \n",
    "        # Retrieve image data\n",
    "        image_data = fs.get(file_id).read()\n",
    "        print(image_data)\n",
    "        \n",
    "        # Check if image data is valid\n",
    "        if image_data:\n",
    "            try:\n",
    "                # Attempt to open the image\n",
    "                image = Image.open(io.BytesIO(image_data))\n",
    "                plt.imshow(image)\n",
    "                plt.axis(\"off\")\n",
    "                plt.show()\n",
    "                print(caption)\n",
    "                print(\"---------------------\")\n",
    "            except Exception as e:\n",
    "                print(f\"Error opening image: {e}\")\n",
    "        else:\n",
    "            print(\"No image data found.\")\n",
    "    else:\n",
    "        print(\"No document found.\")\n"
   ]
  },
  {
   "cell_type": "code",
   "execution_count": null,
   "metadata": {},
   "outputs": [],
   "source": []
  }
 ],
 "metadata": {
  "kernelspec": {
   "display_name": "Python 3",
   "language": "python",
   "name": "python3"
  },
  "language_info": {
   "codemirror_mode": {
    "name": "ipython",
    "version": 3
   },
   "file_extension": ".py",
   "mimetype": "text/x-python",
   "name": "python",
   "nbconvert_exporter": "python",
   "pygments_lexer": "ipython3",
   "version": "3.8.0"
  }
 },
 "nbformat": 4,
 "nbformat_minor": 2
}
